{
 "cells": [
  {
   "cell_type": "code",
   "execution_count": 102,
   "metadata": {},
   "outputs": [],
   "source": [
    "import numpy as np\n",
    "import matplotlib.pyplot as plt\n",
    "from datetime import datetime, timedelta"
   ]
  },
  {
   "cell_type": "code",
   "execution_count": 103,
   "metadata": {},
   "outputs": [],
   "source": [
    "###GLOBAL VARIABLES####\n",
    "K = 32\n",
    "starting_ELO = 1000\n",
    "highest_ELO_ever = [starting_ELO, \"team\", \"season\", \"week\"]"
   ]
  },
  {
   "cell_type": "code",
   "execution_count": 176,
   "metadata": {},
   "outputs": [],
   "source": [
    "def calc_new_ELO(season: str, week: str, home_team: str, away_team: str, ELO_dict : dict, result: str, K:int, top_rating, performance_data: dict): \n",
    "    prior_ELO_home = ELO_dict[home_team]\n",
    "    prior_ELO_away = ELO_dict[away_team]\n",
    "    expected_result_home = 1 / (1 + np.power(10, ((prior_ELO_away - prior_ELO_home)/ 400)))\n",
    "    expected_result_away = 1 / (1 + np.power(10, ((prior_ELO_home - prior_ELO_away)/ 400)))\n",
    "    performance_data[home_team][0].append(prior_ELO_away)\n",
    "    performance_data[away_team][0].append(prior_ELO_home)\n",
    "    \n",
    "    if result == \"H\": \n",
    "        performance_data[home_team][1][0] += 1\n",
    "        S = 1.\n",
    "    elif result == \"A\":\n",
    "        performance_data[away_team][1][0] += 1\n",
    "        S = 0.\n",
    "    else: \n",
    "        performance_data[home_team][1][0] += 0.5\n",
    "        performance_data[away_team][1][0] += 0.5\n",
    "        S = 0.5\n",
    "\n",
    "    new_ELO_home = prior_ELO_home + K*(S - expected_result_home)\n",
    "    new_ELO_away = prior_ELO_away + K*(1-S - expected_result_away)\n",
    "    if new_ELO_home > top_rating[len(top_rating)-1][0]: \n",
    "        top_rating.append([new_ELO_home, home_team, season, week])\n",
    "        #print(\"The highest ELO record has been broken by \", home_team, \" after a home victory against \", away_team, \" on match-week \", week, \" of the \", season , \"season \" )\n",
    "        #print(\" the new top elo ever is \", new_ELO_home)\n",
    "    elif new_ELO_away > top_rating[len(top_rating)-1][0].astype(int): \n",
    "        top_rating.append([new_ELO_away, away_team, season, week])\n",
    "        #print(\"The highest ELO record has been broken by \", away_team, \" after a away victory against \", home_team, \" on match-week \", week, \" of the \", season , \"season \" )\n",
    "        #print(\" the new top elo ever is \", new_ELO_away)\n",
    "\n",
    "    ELO_dict[home_team] = new_ELO_home\n",
    "    ELO_dict[away_team] = new_ELO_away\n",
    "\n",
    "    return ELO_dict, top_rating, performance_data"
   ]
  },
  {
   "cell_type": "code",
   "execution_count": 177,
   "metadata": {},
   "outputs": [
    {
     "name": "stdout",
     "output_type": "stream",
     "text": [
      "2551\n"
     ]
    }
   ],
   "source": [
    "def expected_score(opponent_ratings: list[float], own_rating: float) -> float:\n",
    "    \"\"\"How many points we expect to score in a tourney with these opponents\"\"\"\n",
    "    return sum(\n",
    "        1 / (1 + 10**((opponent_rating - own_rating) / 400))\n",
    "        for opponent_rating in opponent_ratings\n",
    "    )\n",
    "\n",
    "\n",
    "def performance_rating(opponent_ratings: list[float], score: float) -> int:\n",
    "    \"\"\"Calculate mathematically perfect performance rating with binary search\"\"\"\n",
    "    lo, hi = 0, 4000\n",
    "\n",
    "    while hi - lo > 0.001:\n",
    "        mid = (lo + hi) / 2\n",
    "\n",
    "        if expected_score(opponent_ratings, mid) < score:\n",
    "            lo = mid\n",
    "        else:\n",
    "            hi = mid\n",
    "\n",
    "    return round(mid)\n",
    "\n",
    "\n",
    "print(performance_rating([1851, 2457, 1989, 2379, 2407], 4))  # should be 2551"
   ]
  },
  {
   "cell_type": "code",
   "execution_count": 178,
   "metadata": {},
   "outputs": [],
   "source": [
    "raw_data = np.genfromtxt(\"premier_league_data/premier-league-matches.csv\", delimiter=\",\", skip_header=True, dtype=str)\n"
   ]
  },
  {
   "cell_type": "code",
   "execution_count": 179,
   "metadata": {},
   "outputs": [],
   "source": [
    "needed_data = raw_data[:,[0,1,3,6,7]] #We only need the season, round, home team, away team and result\n",
    "#The elo enginge doesn't consider the margin by which a team won. \n",
    "#We choose the round instead of the date, because it is esier to work with. \n",
    "#We therefore pretend that a match in round 5 always happened before a match in round 4, even though this isn't always true"
   ]
  },
  {
   "cell_type": "code",
   "execution_count": 180,
   "metadata": {},
   "outputs": [
    {
     "name": "stdout",
     "output_type": "stream",
     "text": [
      "All the teams who ever play on home ground  ['Arsenal' 'Aston Villa' 'Barnsley' 'Birmingham City' 'Blackburn'\n",
      " 'Blackpool' 'Bolton' 'Bournemouth' 'Bradford City' 'Brentford' 'Brighton'\n",
      " 'Burnley' 'Cardiff City' 'Charlton Ath' 'Chelsea' 'Coventry City'\n",
      " 'Crystal Palace' 'Derby County' 'Everton' 'Fulham' 'Huddersfield'\n",
      " 'Hull City' 'Ipswich Town' 'Leeds United' 'Leicester City' 'Liverpool'\n",
      " 'Manchester City' 'Manchester Utd' 'Middlesbrough' 'Newcastle Utd'\n",
      " 'Norwich City' \"Nott'ham Forest\" 'Oldham Athletic' 'Portsmouth' 'QPR'\n",
      " 'Reading' 'Sheffield Utd' 'Sheffield Weds' 'Southampton' 'Stoke City'\n",
      " 'Sunderland' 'Swansea City' 'Swindon Town' 'Tottenham' 'Watford'\n",
      " 'West Brom' 'West Ham' 'Wigan Athletic' 'Wimbledon' 'Wolves']\n"
     ]
    }
   ],
   "source": [
    "all_teams = np.unique(needed_data[:,3])\n",
    "print(\"All the teams who ever play on home ground \", all_teams)\n",
    "#We look at all the unique teams, and are blessed with the fact, that there are no duplicates or weird names\n",
    "#The data seems good. "
   ]
  },
  {
   "cell_type": "code",
   "execution_count": 181,
   "metadata": {},
   "outputs": [],
   "source": [
    "ELO_of_teams = {value: starting_ELO for value in all_teams}\n",
    "#Now we give all teams their starting ELO"
   ]
  },
  {
   "cell_type": "code",
   "execution_count": 182,
   "metadata": {},
   "outputs": [],
   "source": [
    "first_season = needed_data[needed_data[:,0] == \"1993\"]"
   ]
  },
  {
   "cell_type": "code",
   "execution_count": 183,
   "metadata": {},
   "outputs": [],
   "source": [
    "first_season_sorted = first_season[first_season[:,1].astype(int).argsort()]\n",
    "#Take out only first season to test on"
   ]
  },
  {
   "cell_type": "code",
   "execution_count": 184,
   "metadata": {},
   "outputs": [],
   "source": [
    "ELO_of_teams = {value: starting_ELO for value in all_teams}\n",
    "highest_ELO_ever = [[starting_ELO, \"team\", \"season\", \"week\"]]\n",
    "performance_data = {value : [[],[0]] for value in all_teams}\n",
    "#Performance data holds first opponents ratings prior to all games, own rating prior to all games and total points scored\n",
    "\n",
    "\n",
    "for match in first_season_sorted: \n",
    "    ELO_of_teams, highest_ELO_ever, performance_data = calc_new_ELO(match[0], match[1], match[2], match[3], ELO_of_teams, match[4] , 32, highest_ELO_ever, performance_data)"
   ]
  },
  {
   "cell_type": "code",
   "execution_count": 185,
   "metadata": {},
   "outputs": [],
   "source": [
    "performance_of_teams = {value: 0 for value in all_teams}\n",
    "for team in performance_data: \n",
    "    performance_of_teams[team] = performance_rating(performance_data[team][0], performance_data[team][1][0])"
   ]
  },
  {
   "cell_type": "code",
   "execution_count": 186,
   "metadata": {},
   "outputs": [
    {
     "name": "stdout",
     "output_type": "stream",
     "text": [
      "The team with the highest performance rating over the season is Manchester Utd with a performance rating of 1169\n"
     ]
    }
   ],
   "source": [
    "print(\"The team with the highest performance rating over the season is\", max(performance_of_teams, key=performance_of_teams.get)\n",
    ", \"with a performance rating of\", max(performance_of_teams.values()))\n"
   ]
  },
  {
   "cell_type": "code",
   "execution_count": 187,
   "metadata": {},
   "outputs": [],
   "source": [
    "sorted_matches = sorted(needed_data, key=lambda x: (x[0].astype(int), x[1].astype(int)))\n",
    "#I sort the games by match-week\n",
    "sorted_matches_np = np.array(sorted_matches)"
   ]
  },
  {
   "cell_type": "code",
   "execution_count": 212,
   "metadata": {},
   "outputs": [
    {
     "name": "stdout",
     "output_type": "stream",
     "text": [
      "[[], [0]]\n",
      "[[], [0]]\n",
      "[[], [0]]\n",
      "[[], [0]]\n",
      "[[], [0]]\n",
      "[[], [0]]\n",
      "[[], [0]]\n",
      "[[], [0]]\n",
      "[[], [0]]\n",
      "[[], [0]]\n",
      "[[], [0]]\n",
      "[[], [0]]\n",
      "[[], [0]]\n",
      "[[], [0]]\n",
      "[[], [0]]\n",
      "[[], [0]]\n",
      "[[], [0]]\n",
      "[[], [0]]\n",
      "[[], [0]]\n",
      "[[], [0]]\n",
      "[[], [0]]\n",
      "[[], [0]]\n",
      "[[], [0]]\n",
      "[[], [0]]\n",
      "[[], [0]]\n",
      "[[], [0]]\n",
      "[[], [0]]\n",
      "[[], [0]]\n",
      "[[], [0]]\n",
      "[[1173.2962791043572, 1010.1051515871271, 1071.407869537482, 1060.2826140220618, 1025.1182095237048, 1277.0316980112855, 1159.302548319157, 1232.5670331542547, 1118.7954258324896, 973.9344971168362, 829.5195492347046, 999.6942520609216, 1068.0502584549088, 1110.2457979922133, 1081.684218707143, 967.3752100697541, 1204.4745952236128, 1017.3758903883728, 1028.144271035167, 1352.176266669001, 1081.3900013262987, 1275.5296604403377, 1115.5098652391976, 1362.6806134135818, 1037.053620100421, 1197.070688302138, 1052.0608288584037, 884.0835227869601, 1022.1143071261882, 1104.2527221672638, 1234.5875565465803, 1143.9147173358133, 927.8615818863058, 1177.8716792579544, 1147.0352109870637, 1028.8521263032549, 1042.759058206245, 1024.1494476638582], [16.5]]\n"
     ]
    }
   ],
   "source": [
    "ELO_of_teams = {team: starting_ELO for team in all_teams}\n",
    "highest_ELO_ever = [[1000]]\n",
    "current_year = sorted_matches_np[0,0].astype(int)\n",
    "performance_data = {team : [[],[0]] for team in all_teams} #Holds the data necessary for calculating the performance rating after a season\n",
    "historic_performance = {team : [] for team in all_teams} #Saves the performance ratings for the different seasons\n",
    "i = 0\n",
    "for match in sorted_matches_np: \n",
    "   if int(match[0]) != current_year: \n",
    "      for team in performance_data:\n",
    "         if team == 'Brentford': \n",
    "            print(performance_data[team])\n",
    "         historic_performance[team].append(performance_rating(performance_data[team][0], performance_data[team][1][0])) \n",
    "      performance_data = {team : [[],[0]] for team in all_teams}\n",
    "      current_year = int(match[0])\n",
    "   ELO_of_teams, highest_ELO_ever, performance_data = calc_new_ELO(match[0], match[1], match[2], match[3], ELO_of_teams, match[4] , 32, highest_ELO_ever, performance_data)\n",
    "\n",
    "\n",
    "\n",
    "\n",
    "        \n"
   ]
  },
  {
   "cell_type": "code",
   "execution_count": 217,
   "metadata": {},
   "outputs": [
    {
     "name": "stdout",
     "output_type": "stream",
     "text": [
      "Top Ten Values:\n",
      "1. Performance rating: 1480, Team: Manchester City, Year: 2018\n",
      "2. Performance rating: 1460, Team: Liverpool, Year: 2019\n",
      "3. Performance rating: 1442, Team: Liverpool, Year: 2020\n",
      "4. Performance rating: 1426, Team: Manchester City, Year: 2019\n",
      "5. Performance rating: 1398, Team: Liverpool, Year: 2022\n",
      "6. Performance rating: 1394, Team: Chelsea, Year: 2005\n",
      "7. Performance rating: 1389, Team: Manchester City, Year: 2022\n",
      "8. Performance rating: 1373, Team: Chelsea, Year: 2017\n",
      "9. Performance rating: 1359, Team: Arsenal, Year: 2004\n",
      "10. Performance rating: 1340, Team: Manchester City, Year: 2012\n"
     ]
    }
   ],
   "source": [
    "value_key_index_list = []\n",
    "for key, array in historic_performance.items():\n",
    "    for i, value in enumerate(array):\n",
    "        value_key_index_list.append((value, key, i))\n",
    "\n",
    "# Sort the list in descending order based on values\n",
    "value_key_index_list.sort(reverse=True)\n",
    "\n",
    "# Print the top ten values along with their corresponding keys and indices\n",
    "print(\"Top Ten Values:\")\n",
    "for rank, (value, key, index) in enumerate(value_key_index_list[:10], start=1):\n",
    "    print(f\"{rank}. Performance rating: {value}, Team: {key}, Year: {index + 1993}\")"
   ]
  },
  {
   "cell_type": "code",
   "execution_count": 190,
   "metadata": {},
   "outputs": [
    {
     "ename": "IndexError",
     "evalue": "list index out of range",
     "output_type": "error",
     "traceback": [
      "\u001b[1;31m---------------------------------------------------------------------------\u001b[0m",
      "\u001b[1;31mIndexError\u001b[0m                                Traceback (most recent call last)",
      "Cell \u001b[1;32mIn[190], line 4\u001b[0m\n\u001b[0;32m      1\u001b[0m \u001b[38;5;66;03m#Fixing the highest ELO ever data, such that it can be plotted\u001b[39;00m\n\u001b[0;32m      3\u001b[0m highest_ELO_ever\u001b[38;5;241m.\u001b[39mappend([highest_ELO_ever[\u001b[38;5;28mlen\u001b[39m(highest_ELO_ever)\u001b[38;5;241m-\u001b[39m\u001b[38;5;241m1\u001b[39m][\u001b[38;5;241m0\u001b[39m], highest_ELO_ever[\u001b[38;5;28mlen\u001b[39m(highest_ELO_ever)\u001b[38;5;241m-\u001b[39m\u001b[38;5;241m1\u001b[39m][\u001b[38;5;241m1\u001b[39m], \u001b[38;5;124m'\u001b[39m\u001b[38;5;124m2023\u001b[39m\u001b[38;5;124m'\u001b[39m, \u001b[38;5;124m'\u001b[39m\u001b[38;5;124m38\u001b[39m\u001b[38;5;124m'\u001b[39m])\n\u001b[1;32m----> 4\u001b[0m current_team \u001b[38;5;241m=\u001b[39m \u001b[43mhighest_ELO_ever\u001b[49m\u001b[43m[\u001b[49m\u001b[38;5;241;43m0\u001b[39;49m\u001b[43m]\u001b[49m\u001b[43m[\u001b[49m\u001b[38;5;241;43m1\u001b[39;49m\u001b[43m]\u001b[49m\n\u001b[0;32m      5\u001b[0m \u001b[38;5;28;01mfor\u001b[39;00m i \u001b[38;5;129;01min\u001b[39;00m \u001b[38;5;28mrange\u001b[39m(\u001b[38;5;28mlen\u001b[39m(highest_ELO_ever)): \n\u001b[0;32m      6\u001b[0m     \u001b[38;5;28;01mif\u001b[39;00m highest_ELO_ever[i][\u001b[38;5;241m1\u001b[39m] \u001b[38;5;241m!=\u001b[39m current_team: \n",
      "\u001b[1;31mIndexError\u001b[0m: list index out of range"
     ]
    }
   ],
   "source": [
    "\n",
    "#Fixing the highest ELO ever data, such that it can be plotted\n",
    "\n",
    "highest_ELO_ever.append([highest_ELO_ever[len(highest_ELO_ever)-1][0], highest_ELO_ever[len(highest_ELO_ever)-1][1], '2023', '38'])\n",
    "current_team = highest_ELO_ever[0][1]\n",
    "for i in range(len(highest_ELO_ever)): \n",
    "    if highest_ELO_ever[i][1] != current_team: \n",
    "        highest_ELO_ever.append([highest_ELO_ever[i-1][0], current_team, highest_ELO_ever[i][2], highest_ELO_ever[i][3]])\n",
    "        current_team = highest_ELO_ever[i][1]\n",
    "        print(highest_ELO_ever[i])\n",
    "\n",
    "highest_ELO_ever = np.array(highest_ELO_ever)\n"
   ]
  },
  {
   "cell_type": "code",
   "execution_count": null,
   "metadata": {},
   "outputs": [
    {
     "name": "stdout",
     "output_type": "stream",
     "text": [
      "[['1323.4265537826066' 'Arsenal' '2004' '27']\n",
      " ['1328.3491131586457' 'Arsenal' '2004' '28']\n",
      " ['1333.559992333218' 'Arsenal' '2004' '29']\n",
      " ['1338.690905112862' 'Arsenal' '2005' '9']\n",
      " ['1338.690905112862' 'Arsenal' '2006' '2']]\n"
     ]
    },
    {
     "data": {
      "image/png": "[encoded data removed]",
      "text/plain": [
       "<Figure size 640x480 with 1 Axes>"
      ]
     },
     "metadata": {},
     "output_type": "display_data"
    }
   ],
   "source": [
    "# Define colors for each team\n",
    "team_colors = {\n",
    "    'Arsenal' : 'darkred',\n",
    "    'Chelsea': 'blue',\n",
    "    'Coventry City': 'pink',\n",
    "    'Liverpool': 'purple',\n",
    "    'Manchester City': 'lightblue',\n",
    "    'Manchester Utd' : 'red', \n",
    "    'Norwich City' : 'yellow', \n",
    "    'QPR' : 'green',    # Add more teams as needed\n",
    "}\n",
    "\n",
    "# Plotting\n",
    "teams = highest_ELO_ever[:,1]\n",
    "\n",
    "\n",
    "# Create a new figure\n",
    "plt.figure()\n",
    "\n",
    "\n",
    "# Loop over each team\n",
    "for team in np.unique(teams):\n",
    "    team_data = highest_ELO_ever[teams == team]\n",
    "    if(team == 'Arsenal'): \n",
    "        print( team_data)\n",
    "    # Get the data for this team    \n",
    "    # Extract the elo, week, and year\n",
    "    elo = team_data[:, 0].astype(float)\n",
    "    week = team_data[:, 3].astype(float)\n",
    "    year = team_data[:, 2].astype(float)\n",
    "    # Plot this team's data with its corresponding color\n",
    "    plt.plot( 52* year +week, elo, color=team_colors[team], label=team)\n",
    "\n",
    "# Add labels, title, and legend\n",
    "plt.xlabel('Weeks since year 0')\n",
    "plt.ylabel('Highest Elo')\n",
    "plt.title('Highest Elo over time')\n",
    "plt.legend()\n",
    "\n",
    "# Show the plot\n",
    "plt.show()\n"
   ]
  },
  {
   "cell_type": "code",
   "execution_count": null,
   "metadata": {},
   "outputs": [],
   "source": []
  }
 ],
 "metadata": {
  "kernelspec": {
   "display_name": "base",
   "language": "python",
   "name": "python3"
  },
  "language_info": {
   "codemirror_mode": {
    "name": "ipython",
    "version": 3
   },
   "file_extension": ".py",
   "mimetype": "text/x-python",
   "name": "python",
   "nbconvert_exporter": "python",
   "pygments_lexer": "ipython3",
   "version": "3.10.9"
  }
 },
 "nbformat": 4,
 "nbformat_minor": 2
}
