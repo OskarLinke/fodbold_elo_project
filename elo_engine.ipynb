{
 "cells": [
  {
   "cell_type": "code",
   "execution_count": null,
   "metadata": {},
   "outputs": [],
   "source": [
    "import numpy as np"
   ]
  },
  {
   "cell_type": "code",
   "execution_count": null,
   "metadata": {},
   "outputs": [],
   "source": [
    "###GLOBAL VARIABLES####\n",
    "K = 32\n",
    "starting_ELO = 1000"
   ]
  },
  {
   "cell_type": "code",
   "execution_count": null,
   "metadata": {},
   "outputs": [],
   "source": [
    "def calc_new_ELO(home_team: str, away_team: str, ELO_dict : dict, result: str, K:int) -> dict: \n",
    "    prior_ELO_home = ELO_dict[home_team]\n",
    "    prior_ELO_away = ELO_dict[away_team]\n",
    "    expected_result_home = 1 / (1 + np.power(10, ((prior_ELO_away - prior_ELO_home)/ 400)))\n",
    "    expected_result_away = 1 / (1 + np.power(10, ((prior_ELO_home - prior_ELO_away)/ 400)))\n",
    "    \n",
    "    if result == \"H\": \n",
    "        S = 1.\n",
    "    elif result == \"A\":\n",
    "        S = 0.\n",
    "    else: \n",
    "        S = 0.5\n",
    "\n",
    "    new_ELO_home = prior_ELO_home + K*(S - expected_result_home)\n",
    "    new_ELO_away = prior_ELO_away + K*(S - 1 - expected_result_away)\n",
    "\n",
    "    ELO_dict[home_team] = new_ELO_home\n",
    "    ELO_dict[away_team] = new_ELO_away\n",
    "\n",
    "    return ELO_dict"
   ]
  },
  {
   "cell_type": "code",
   "execution_count": null,
   "metadata": {},
   "outputs": [],
   "source": []
  },
  {
   "cell_type": "code",
   "execution_count": null,
   "metadata": {},
   "outputs": [],
   "source": [
    "raw_data = np.genfromtxt(\"premier_league_data/premier-league-matches.csv\", delimiter=\",\", skip_header=True, dtype=str)\n"
   ]
  },
  {
   "cell_type": "code",
   "execution_count": null,
   "metadata": {},
   "outputs": [],
   "source": [
    "needed_data = raw_data[:,[0,1,3,6,7]] #We only need the season, round, home team, away team and result\n",
    "#The elo enginge doesn't consider the margin by which a team won. \n",
    "#We choose the round instead of the date, because it is esier to work with. \n",
    "#We therefore pretend that a match in round 5 always happened before a match in round 4, even though this isn't always true"
   ]
  },
  {
   "cell_type": "code",
   "execution_count": null,
   "metadata": {},
   "outputs": [],
   "source": [
    "all_teams = np.unique(needed_data[:,3])\n",
    "print(\"All the teams who ever play on home ground \", all_teams)\n",
    "#We look at all the unique teams, and are blessed with the fact, that there are no duplicates or weird names\n",
    "#The data seems good. "
   ]
  },
  {
   "cell_type": "code",
   "execution_count": null,
   "metadata": {},
   "outputs": [],
   "source": [
    "ELO_of_teams = {value: starting_ELO for value in all_teams}\n",
    "#Now we give all teams their starting ELO"
   ]
  },
  {
   "cell_type": "code",
   "execution_count": null,
   "metadata": {},
   "outputs": [],
   "source": []
  }
 ],
 "metadata": {
  "kernelspec": {
   "display_name": "base",
   "language": "python",
   "name": "python3"
  },
  "language_info": {
   "codemirror_mode": {
    "name": "ipython",
    "version": 3
   },
   "file_extension": ".py",
   "mimetype": "text/x-python",
   "name": "python",
   "nbconvert_exporter": "python",
   "pygments_lexer": "ipython3",
   "version": "3.10.9"
  }
 },
 "nbformat": 4,
 "nbformat_minor": 2
}
