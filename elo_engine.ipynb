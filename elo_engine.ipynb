{
 "cells": [
  {
   "cell_type": "code",
   "execution_count": null,
   "metadata": {},
   "outputs": [],
   "source": [
    "import numpy as np\n",
    "import matplotlib.pyplot as plt\n",
    "from datetime import datetime, timedelta"
   ]
  },
  {
   "cell_type": "code",
   "execution_count": null,
   "metadata": {},
   "outputs": [],
   "source": [
    "###GLOBAL VARIABLES####\n",
    "K = 32\n",
    "starting_ELO = 1000\n",
    "highest_ELO_ever = [starting_ELO, \"team\", \"season\", \"week\"]"
   ]
  },
  {
   "cell_type": "code",
   "execution_count": null,
   "metadata": {},
   "outputs": [],
   "source": [
    "def calc_new_ELO(season: str, week: str, home_team: str, away_team: str, ELO_dict : dict, result: str, K:int, top_rating) -> dict: \n",
    "    prior_ELO_home = ELO_dict[home_team]\n",
    "    prior_ELO_away = ELO_dict[away_team]\n",
    "    expected_result_home = 1 / (1 + np.power(10, ((prior_ELO_away - prior_ELO_home)/ 400)))\n",
    "    expected_result_away = 1 / (1 + np.power(10, ((prior_ELO_home - prior_ELO_away)/ 400)))\n",
    "    \n",
    "    if result == \"H\": \n",
    "        S = 1.\n",
    "    elif result == \"A\":\n",
    "        S = 0.\n",
    "    else: \n",
    "        S = 0.5\n",
    "\n",
    "    new_ELO_home = prior_ELO_home + K*(S - expected_result_home)\n",
    "    new_ELO_away = prior_ELO_away + K*(1-S - expected_result_away)\n",
    "    if new_ELO_home > top_rating[len(top_rating)-1][0]: \n",
    "        top_rating.append([new_ELO_home, home_team, season, week])\n",
    "        print(\"The highest ELO record has been broken by \", home_team, \" after a home victory against \", away_team, \" on match-week \", week, \" of the \", season , \"season \" )\n",
    "        print(\" the new top elo ever is \", new_ELO_home)\n",
    "    elif new_ELO_away > top_rating[len(top_rating)-1][0].astype(int): \n",
    "        top_rating.append([new_ELO_away, away_team, season, week])\n",
    "        print(\"The highest ELO record has been broken by \", away_team, \" after a away victory against \", home_team, \" on match-week \", week, \" of the \", season , \"season \" )\n",
    "        print(\" the new top elo ever is \", new_ELO_away)\n",
    "\n",
    "    ELO_dict[home_team] = new_ELO_home\n",
    "    ELO_dict[away_team] = new_ELO_away\n",
    "\n",
    "    return ELO_dict, top_rating"
   ]
  },
  {
   "cell_type": "code",
   "execution_count": null,
   "metadata": {},
   "outputs": [],
   "source": [
    "raw_data = np.genfromtxt(\"premier_league_data/premier-league-matches.csv\", delimiter=\",\", skip_header=True, dtype=str)\n"
   ]
  },
  {
   "cell_type": "code",
   "execution_count": null,
   "metadata": {},
   "outputs": [],
   "source": [
    "needed_data = raw_data[:,[0,1,3,6,7]] #We only need the season, round, home team, away team and result\n",
    "#The elo enginge doesn't consider the margin by which a team won. \n",
    "#We choose the round instead of the date, because it is esier to work with. \n",
    "#We therefore pretend that a match in round 5 always happened before a match in round 4, even though this isn't always true"
   ]
  },
  {
   "cell_type": "code",
   "execution_count": null,
   "metadata": {},
   "outputs": [],
   "source": [
    "all_teams = np.unique(needed_data[:,3])\n",
    "print(\"All the teams who ever play on home ground \", all_teams)\n",
    "#We look at all the unique teams, and are blessed with the fact, that there are no duplicates or weird names\n",
    "#The data seems good. "
   ]
  },
  {
   "cell_type": "code",
   "execution_count": null,
   "metadata": {},
   "outputs": [],
   "source": [
    "ELO_of_teams = {value: starting_ELO for value in all_teams}\n",
    "#Now we give all teams their starting ELO"
   ]
  },
  {
   "cell_type": "code",
   "execution_count": null,
   "metadata": {},
   "outputs": [],
   "source": [
    "first_season = needed_data[needed_data[:,0] == \"1993\"]"
   ]
  },
  {
   "cell_type": "code",
   "execution_count": null,
   "metadata": {},
   "outputs": [],
   "source": [
    "first_season_sorted = first_season[first_season[:,1].astype(int).argsort()]\n",
    "#Take out only first season to test on"
   ]
  },
  {
   "cell_type": "code",
   "execution_count": null,
   "metadata": {},
   "outputs": [],
   "source": [
    "ELO_of_teams = {value: starting_ELO for value in all_teams}\n",
    "highest_ELO_ever = [[starting_ELO, \"team\", \"season\", \"week\"]]\n",
    "\n",
    "for match in first_season_sorted: \n",
    "    ELO_of_teams, highest_ELO_ever = calc_new_ELO(match[0], match[1], match[2], match[3], ELO_of_teams, match[4] , 32, highest_ELO_ever)"
   ]
  },
  {
   "cell_type": "code",
   "execution_count": null,
   "metadata": {},
   "outputs": [],
   "source": [
    "sorted_matches = sorted(needed_data, key=lambda x: (x[0].astype(int), x[1].astype(int)))\n",
    "#I sort the games by match-week"
   ]
  },
  {
   "cell_type": "code",
   "execution_count": null,
   "metadata": {},
   "outputs": [],
   "source": [
    "ELO_of_teams = {value: starting_ELO for value in all_teams}\n",
    "highest_ELO_ever = [[starting_ELO, \"team\", \"season\", \"week\"]]\n",
    "for match in sorted_matches: \n",
    "    ELO_of_teams, highest_ELO_ever = calc_new_ELO(match[0], match[1], match[2], match[3], ELO_of_teams, match[4] , 32, highest_ELO_ever)\n",
    "\n"
   ]
  },
  {
   "cell_type": "code",
   "execution_count": null,
   "metadata": {},
   "outputs": [],
   "source": [
    "highest_ELO_ever.append([highest_ELO_ever[len(highest_ELO_ever)-1][0], highest_ELO_ever[len(highest_ELO_ever)-1][1], '2023', '38'])\n",
    "def year_week_to_date(year, week):\n",
    "    year_int = int(year)\n",
    "    week_int = int(week)\n",
    "    # Calculate the date for the first day of the week\n",
    "    first_day_of_week = datetime.strptime(f'{year_int}-{week_int}-1', \"%Y-%W-%w\")\n",
    "    # Add 3 days because the first week of the year might belong to the previous year\n",
    "    first_day_of_week += timedelta(days=3)\n",
    "    return first_day_of_week\n",
    "\n",
    "# Plotting\n",
    "plt.figure(figsize=(16, 6))\n",
    "x_values = []\n",
    "y_values = []\n",
    "for entry in highest_ELO_ever[:][1:]:\n",
    "    value, team, year, week = entry\n",
    "    date = year_week_to_date(year, week)\n",
    "    x_values.append(date)\n",
    "    y_values.append(value)\n",
    "    plt.plot(x_values, y_values, linestyle='-')\n",
    "\n",
    "plt.xlabel('Time')\n",
    "plt.ylabel('Top ELO')\n",
    "plt.title('Highest ELO ever vs Time')\n",
    "plt.grid(True)\n",
    "plt.show()"
   ]
  },
  {
   "cell_type": "code",
   "execution_count": null,
   "metadata": {},
   "outputs": [],
   "source": []
  }
 ],
 "metadata": {
  "kernelspec": {
   "display_name": "base",
   "language": "python",
   "name": "python3"
  },
  "language_info": {
   "codemirror_mode": {
    "name": "ipython",
    "version": 3
   },
   "file_extension": ".py",
   "mimetype": "text/x-python",
   "name": "python",
   "nbconvert_exporter": "python",
   "pygments_lexer": "ipython3",
   "version": "3.10.9"
  }
 },
 "nbformat": 4,
 "nbformat_minor": 2
}
