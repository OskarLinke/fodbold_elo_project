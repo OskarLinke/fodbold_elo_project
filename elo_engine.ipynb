{
 "cells": [
  {
   "cell_type": "code",
   "execution_count": 255,
   "metadata": {},
   "outputs": [],
   "source": [
    "import numpy as np\n",
    "import matplotlib.pyplot as plt\n",
    "from datetime import datetime, timedelta"
   ]
  },
  {
   "cell_type": "code",
   "execution_count": 256,
   "metadata": {},
   "outputs": [],
   "source": [
    "###GLOBAL VARIABLES####\n",
    "K = 32\n",
    "starting_ELO = 1000\n",
    "highest_ELO_ever = [starting_ELO, \"team\", \"season\", \"week\"]"
   ]
  },
  {
   "cell_type": "code",
   "execution_count": 257,
   "metadata": {},
   "outputs": [],
   "source": [
    "def calc_new_ELO(season: str, week: str, home_team: str, away_team: str, ELO_dict : dict, result: str, K:int, top_rating) -> dict: \n",
    "    prior_ELO_home = ELO_dict[home_team]\n",
    "    prior_ELO_away = ELO_dict[away_team]\n",
    "    expected_result_home = 1 / (1 + np.power(10, ((prior_ELO_away - prior_ELO_home)/ 400)))\n",
    "    expected_result_away = 1 / (1 + np.power(10, ((prior_ELO_home - prior_ELO_away)/ 400)))\n",
    "    \n",
    "    if result == \"H\": \n",
    "        S = 1.\n",
    "    elif result == \"A\":\n",
    "        S = 0.\n",
    "    else: \n",
    "        S = 0.5\n",
    "\n",
    "    new_ELO_home = prior_ELO_home + K*(S - expected_result_home)\n",
    "    new_ELO_away = prior_ELO_away + K*(1-S - expected_result_away)\n",
    "    if new_ELO_home > top_rating[len(top_rating)-1][0]: \n",
    "        top_rating.append([new_ELO_home, home_team, season, week])\n",
    "        print(\"The highest ELO record has been broken by \", home_team, \" after a home victory against \", away_team, \" on match-week \", week, \" of the \", season , \"season \" )\n",
    "        print(\" the new top elo ever is \", new_ELO_home)\n",
    "    elif new_ELO_away > top_rating[len(top_rating)-1][0].astype(int): \n",
    "        top_rating.append([new_ELO_away, away_team, season, week])\n",
    "        print(\"The highest ELO record has been broken by \", away_team, \" after a away victory against \", home_team, \" on match-week \", week, \" of the \", season , \"season \" )\n",
    "        print(\" the new top elo ever is \", new_ELO_away)\n",
    "\n",
    "    ELO_dict[home_team] = new_ELO_home\n",
    "    ELO_dict[away_team] = new_ELO_away\n",
    "\n",
    "    return ELO_dict, top_rating"
   ]
  },
  {
   "cell_type": "code",
   "execution_count": 258,
   "metadata": {},
   "outputs": [],
   "source": [
    "raw_data = np.genfromtxt(\"premier_league_data/premier-league-matches.csv\", delimiter=\",\", skip_header=True, dtype=str)\n"
   ]
  },
  {
   "cell_type": "code",
   "execution_count": 259,
   "metadata": {},
   "outputs": [],
   "source": [
    "needed_data = raw_data[:,[0,1,3,6,7]] #We only need the season, round, home team, away team and result\n",
    "#The elo enginge doesn't consider the margin by which a team won. \n",
    "#We choose the round instead of the date, because it is esier to work with. \n",
    "#We therefore pretend that a match in round 5 always happened before a match in round 4, even though this isn't always true"
   ]
  },
  {
   "cell_type": "code",
   "execution_count": 260,
   "metadata": {},
   "outputs": [
    {
     "name": "stdout",
     "output_type": "stream",
     "text": [
      "All the teams who ever play on home ground  ['Arsenal' 'Aston Villa' 'Barnsley' 'Birmingham City' 'Blackburn'\n",
      " 'Blackpool' 'Bolton' 'Bournemouth' 'Bradford City' 'Brentford' 'Brighton'\n",
      " 'Burnley' 'Cardiff City' 'Charlton Ath' 'Chelsea' 'Coventry City'\n",
      " 'Crystal Palace' 'Derby County' 'Everton' 'Fulham' 'Huddersfield'\n",
      " 'Hull City' 'Ipswich Town' 'Leeds United' 'Leicester City' 'Liverpool'\n",
      " 'Manchester City' 'Manchester Utd' 'Middlesbrough' 'Newcastle Utd'\n",
      " 'Norwich City' \"Nott'ham Forest\" 'Oldham Athletic' 'Portsmouth' 'QPR'\n",
      " 'Reading' 'Sheffield Utd' 'Sheffield Weds' 'Southampton' 'Stoke City'\n",
      " 'Sunderland' 'Swansea City' 'Swindon Town' 'Tottenham' 'Watford'\n",
      " 'West Brom' 'West Ham' 'Wigan Athletic' 'Wimbledon' 'Wolves']\n"
     ]
    }
   ],
   "source": [
    "all_teams = np.unique(needed_data[:,3])\n",
    "print(\"All the teams who ever play on home ground \", all_teams)\n",
    "#We look at all the unique teams, and are blessed with the fact, that there are no duplicates or weird names\n",
    "#The data seems good. "
   ]
  },
  {
   "cell_type": "code",
   "execution_count": 261,
   "metadata": {},
   "outputs": [],
   "source": [
    "ELO_of_teams = {value: starting_ELO for value in all_teams}\n",
    "#Now we give all teams their starting ELO"
   ]
  },
  {
   "cell_type": "code",
   "execution_count": 262,
   "metadata": {},
   "outputs": [],
   "source": [
    "first_season = needed_data[needed_data[:,0] == \"1993\"]"
   ]
  },
  {
   "cell_type": "code",
   "execution_count": 263,
   "metadata": {},
   "outputs": [],
   "source": [
    "first_season_sorted = first_season[first_season[:,1].astype(int).argsort()]\n",
    "#Take out only first season to test on"
   ]
  },
  {
   "cell_type": "code",
   "execution_count": 264,
   "metadata": {},
   "outputs": [
    {
     "name": "stdout",
     "output_type": "stream",
     "text": [
      "The highest ELO record has been broken by  Coventry City  after a home victory against  Middlesbrough  on match-week  1  of the  1993 season \n",
      " the new top elo ever is  1016.0\n",
      "The highest ELO record has been broken by  Sheffield Weds  after a home victory against  Nott'ham Forest  on match-week  2  of the  1993 season \n",
      " the new top elo ever is  1016.736306793522\n",
      "The highest ELO record has been broken by  Norwich City  after a home victory against  Chelsea  on match-week  2  of the  1993 season \n",
      " the new top elo ever is  1031.263693206478\n",
      "The highest ELO record has been broken by  Coventry City  after a away victory against  Tottenham  on match-week  2  of the  1993 season \n",
      " the new top elo ever is  1031.263693206478\n",
      "The highest ELO record has been broken by  Coventry City  after a away victory against  Wimbledon  on match-week  3  of the  1993 season \n",
      " the new top elo ever is  1044.4148906697776\n",
      "The highest ELO record has been broken by  QPR  after a away victory against  Coventry City  on match-week  4  of the  1993 season \n",
      " the new top elo ever is  1047.8046277230412\n",
      "The highest ELO record has been broken by  Norwich City  after a home victory against  Southampton  on match-week  7  of the  1993 season \n",
      " the new top elo ever is  1054.6692680176461\n",
      "The highest ELO record has been broken by  Coventry City  after a home victory against  Tottenham  on match-week  8  of the  1993 season \n",
      " the new top elo ever is  1056.233861306288\n",
      "The highest ELO record has been broken by  Norwich City  after a away victory against  Chelsea  on match-week  8  of the  1993 season \n",
      " the new top elo ever is  1068.3962245454763\n",
      "The highest ELO record has been broken by  Norwich City  after a home victory against  Sheffield Weds  on match-week  9  of the  1993 season \n",
      " the new top elo ever is  1080.5449072954152\n",
      "The highest ELO record has been broken by  Norwich City  after a away victory against  Aston Villa  on match-week  17  of the  1993 season \n",
      " the new top elo ever is  1094.6261239623911\n",
      "The highest ELO record has been broken by  Norwich City  after a home victory against  Wimbledon  on match-week  18  of the  1993 season \n",
      " the new top elo ever is  1104.4263150136912\n",
      "The highest ELO record has been broken by  Manchester Utd  after a away victory against  QPR  on match-week  24  of the  1993 season \n",
      " the new top elo ever is  1107.6658147545804\n",
      "The highest ELO record has been broken by  Manchester Utd  after a home victory against  Nott'ham Forest  on match-week  25  of the  1993 season \n",
      " the new top elo ever is  1117.1803450720874\n",
      "The highest ELO record has been broken by  Manchester Utd  after a home victory against  Southampton  on match-week  30  of the  1993 season \n",
      " the new top elo ever is  1122.2118884609094\n",
      "The highest ELO record has been broken by  Manchester Utd  after a home victory against  Middlesbrough  on match-week  31  of the  1993 season \n",
      " the new top elo ever is  1130.2311079131873\n",
      "The highest ELO record has been broken by  Manchester Utd  after a away victory against  Liverpool  on match-week  32  of the  1993 season \n",
      " the new top elo ever is  1139.713405675039\n",
      "The highest ELO record has been broken by  Manchester Utd  after a away victory against  Coventry City  on match-week  39  of the  1993 season \n",
      " the new top elo ever is  1140.5334101819249\n",
      "The highest ELO record has been broken by  Manchester Utd  after a home victory against  Chelsea  on match-week  40  of the  1993 season \n",
      " the new top elo ever is  1150.3700630612132\n",
      "The highest ELO record has been broken by  Manchester Utd  after a home victory against  Blackburn  on match-week  41  of the  1993 season \n",
      " the new top elo ever is  1162.644373997912\n",
      "The highest ELO record has been broken by  Manchester Utd  after a away victory against  Wimbledon  on match-week  42  of the  1993 season \n",
      " the new top elo ever is  1172.7438474058904\n"
     ]
    }
   ],
   "source": [
    "ELO_of_teams = {value: starting_ELO for value in all_teams}\n",
    "highest_ELO_ever = [[starting_ELO, \"team\", \"season\", \"week\"]]\n",
    "\n",
    "for match in first_season_sorted: \n",
    "    ELO_of_teams, highest_ELO_ever = calc_new_ELO(match[0], match[1], match[2], match[3], ELO_of_teams, match[4] , 32, highest_ELO_ever)"
   ]
  },
  {
   "cell_type": "code",
   "execution_count": 265,
   "metadata": {},
   "outputs": [],
   "source": [
    "sorted_matches = sorted(needed_data, key=lambda x: (x[0].astype(int), x[1].astype(int)))\n",
    "#I sort the games by match-week"
   ]
  },
  {
   "cell_type": "code",
   "execution_count": 266,
   "metadata": {},
   "outputs": [
    {
     "name": "stdout",
     "output_type": "stream",
     "text": [
      "The highest ELO record has been broken by  Coventry City  after a home victory against  Middlesbrough  on match-week  1  of the  1993 season \n",
      " the new top elo ever is  1016.0\n",
      "The highest ELO record has been broken by  Coventry City  after a away victory against  Tottenham  on match-week  2  of the  1993 season \n",
      " the new top elo ever is  1031.263693206478\n",
      "The highest ELO record has been broken by  Coventry City  after a away victory against  Wimbledon  on match-week  3  of the  1993 season \n",
      " the new top elo ever is  1044.4148906697776\n",
      "The highest ELO record has been broken by  QPR  after a away victory against  Coventry City  on match-week  4  of the  1993 season \n",
      " the new top elo ever is  1047.8046277230412\n",
      "The highest ELO record has been broken by  Norwich City  after a home victory against  Southampton  on match-week  7  of the  1993 season \n",
      " the new top elo ever is  1054.6692680176461\n",
      "The highest ELO record has been broken by  Norwich City  after a away victory against  Chelsea  on match-week  8  of the  1993 season \n",
      " the new top elo ever is  1068.3962245454763\n",
      "The highest ELO record has been broken by  Norwich City  after a home victory against  Sheffield Weds  on match-week  9  of the  1993 season \n",
      " the new top elo ever is  1080.5449072954152\n",
      "The highest ELO record has been broken by  Norwich City  after a away victory against  Aston Villa  on match-week  17  of the  1993 season \n",
      " the new top elo ever is  1094.6261239623911\n",
      "The highest ELO record has been broken by  Norwich City  after a home victory against  Wimbledon  on match-week  18  of the  1993 season \n",
      " the new top elo ever is  1104.4263150136912\n",
      "The highest ELO record has been broken by  Manchester Utd  after a away victory against  QPR  on match-week  24  of the  1993 season \n",
      " the new top elo ever is  1107.6658147545804\n",
      "The highest ELO record has been broken by  Manchester Utd  after a home victory against  Nott'ham Forest  on match-week  25  of the  1993 season \n",
      " the new top elo ever is  1117.1803450720874\n",
      "The highest ELO record has been broken by  Manchester Utd  after a home victory against  Southampton  on match-week  30  of the  1993 season \n",
      " the new top elo ever is  1122.2118884609094\n",
      "The highest ELO record has been broken by  Manchester Utd  after a home victory against  Middlesbrough  on match-week  31  of the  1993 season \n",
      " the new top elo ever is  1130.2311079131873\n",
      "The highest ELO record has been broken by  Manchester Utd  after a away victory against  Liverpool  on match-week  32  of the  1993 season \n",
      " the new top elo ever is  1139.713405675039\n",
      "The highest ELO record has been broken by  Manchester Utd  after a away victory against  Coventry City  on match-week  39  of the  1993 season \n",
      " the new top elo ever is  1140.5334101819249\n",
      "The highest ELO record has been broken by  Manchester Utd  after a home victory against  Chelsea  on match-week  40  of the  1993 season \n",
      " the new top elo ever is  1150.3700630612132\n",
      "The highest ELO record has been broken by  Manchester Utd  after a home victory against  Blackburn  on match-week  41  of the  1993 season \n",
      " the new top elo ever is  1162.644373997912\n",
      "The highest ELO record has been broken by  Manchester Utd  after a away victory against  Wimbledon  on match-week  42  of the  1993 season \n",
      " the new top elo ever is  1172.7438474058904\n",
      "The highest ELO record has been broken by  Manchester Utd  after a away victory against  Norwich City  on match-week  1  of the  1994 season \n",
      " the new top elo ever is  1182.9017172860674\n",
      "The highest ELO record has been broken by  Manchester Utd  after a home victory against  Sheffield Utd  on match-week  2  of the  1994 season \n",
      " the new top elo ever is  1191.6249655097324\n",
      "The highest ELO record has been broken by  Manchester Utd  after a away victory against  Aston Villa  on match-week  4  of the  1994 season \n",
      " the new top elo ever is  1193.8578285939072\n",
      "The highest ELO record has been broken by  Manchester Utd  after a away victory against  Southampton  on match-week  5  of the  1994 season \n",
      " the new top elo ever is  1199.4612211484082\n",
      "The highest ELO record has been broken by  Manchester Utd  after a home victory against  West Ham  on match-week  6  of the  1994 season \n",
      " the new top elo ever is  1206.2101984632275\n",
      "The highest ELO record has been broken by  Manchester Utd  after a home victory against  Tottenham  on match-week  11  of the  1994 season \n",
      " the new top elo ever is  1213.3182505583266\n",
      "The highest ELO record has been broken by  Manchester Utd  after a away victory against  Everton  on match-week  12  of the  1994 season \n",
      " the new top elo ever is  1219.9191161415708\n",
      "The highest ELO record has been broken by  Manchester Utd  after a home victory against  QPR  on match-week  13  of the  1994 season \n",
      " the new top elo ever is  1229.0713246310736\n",
      "The highest ELO record has been broken by  Manchester Utd  after a away victory against  Manchester City  on match-week  14  of the  1994 season \n",
      " the new top elo ever is  1235.124638669938\n",
      "The highest ELO record has been broken by  Manchester Utd  after a home victory against  Wimbledon  on match-week  15  of the  1994 season \n",
      " the new top elo ever is  1241.9759206897247\n",
      "The highest ELO record has been broken by  Manchester Utd  after a away victory against  QPR  on match-week  29  of the  1994 season \n",
      " the new top elo ever is  1247.4033834769882\n",
      "The highest ELO record has been broken by  Manchester Utd  after a home victory against  Southampton  on match-week  30  of the  1994 season \n",
      " the new top elo ever is  1251.5815306305612\n",
      "The highest ELO record has been broken by  Manchester Utd  after a away victory against  Arsenal  on match-week  4  of the  2000 season \n",
      " the new top elo ever is  1260.9112604896395\n",
      "The highest ELO record has been broken by  Manchester Utd  after a away victory against  Coventry City  on match-week  5  of the  2000 season \n",
      " the new top elo ever is  1266.542405652053\n",
      "The highest ELO record has been broken by  Manchester Utd  after a home victory against  Newcastle Utd  on match-week  6  of the  2000 season \n",
      " the new top elo ever is  1270.688553263995\n",
      "The highest ELO record has been broken by  Manchester Utd  after a away victory against  Liverpool  on match-week  7  of the  2000 season \n",
      " the new top elo ever is  1278.8405956941715\n",
      "The highest ELO record has been broken by  Manchester Utd  after a home victory against  Coventry City  on match-week  24  of the  2000 season \n",
      " the new top elo ever is  1279.975032203265\n",
      "The highest ELO record has been broken by  Manchester Utd  after a away victory against  Southampton  on match-week  34  of the  2000 season \n",
      " the new top elo ever is  1284.6337800854278\n",
      "The highest ELO record has been broken by  Manchester Utd  after a home victory against  Chelsea  on match-week  35  of the  2000 season \n",
      " the new top elo ever is  1294.1085360276838\n",
      "The highest ELO record has been broken by  Manchester Utd  after a away victory against  Watford  on match-week  36  of the  2000 season \n",
      " the new top elo ever is  1296.4752485397494\n",
      "The highest ELO record has been broken by  Manchester Utd  after a home victory against  Tottenham  on match-week  37  of the  2000 season \n",
      " the new top elo ever is  1301.9239180976454\n",
      "The highest ELO record has been broken by  Manchester Utd  after a away victory against  Aston Villa  on match-week  38  of the  2000 season \n",
      " the new top elo ever is  1309.3880698831201\n",
      "The highest ELO record has been broken by  Manchester Utd  after a home victory against  Newcastle Utd  on match-week  1  of the  2001 season \n",
      " the new top elo ever is  1315.7569969330657\n",
      "The highest ELO record has been broken by  Manchester Utd  after a home victory against  Tottenham  on match-week  16  of the  2001 season \n",
      " the new top elo ever is  1319.9987698802984\n",
      "The highest ELO record has been broken by  Arsenal  after a home victory against  Charlton Ath  on match-week  27  of the  2004 season \n",
      " the new top elo ever is  1323.4265537826066\n",
      "The highest ELO record has been broken by  Arsenal  after a away victory against  Blackburn  on match-week  28  of the  2004 season \n",
      " the new top elo ever is  1328.3491131586457\n",
      "The highest ELO record has been broken by  Arsenal  after a home victory against  Bolton  on match-week  29  of the  2004 season \n",
      " the new top elo ever is  1333.559992333218\n",
      "The highest ELO record has been broken by  Arsenal  after a home victory against  Aston Villa  on match-week  9  of the  2005 season \n",
      " the new top elo ever is  1338.690905112862\n",
      "The highest ELO record has been broken by  Chelsea  after a home victory against  Arsenal  on match-week  2  of the  2006 season \n",
      " the new top elo ever is  1340.6020884290947\n",
      "The highest ELO record has been broken by  Chelsea  after a home victory against  West Brom  on match-week  3  of the  2006 season \n",
      " the new top elo ever is  1344.471007404192\n",
      "The highest ELO record has been broken by  Chelsea  after a away victory against  Tottenham  on match-week  4  of the  2006 season \n",
      " the new top elo ever is  1350.09735763619\n",
      "The highest ELO record has been broken by  Chelsea  after a home victory against  Sunderland  on match-week  5  of the  2006 season \n",
      " the new top elo ever is  1351.2777477189584\n",
      "The highest ELO record has been broken by  Chelsea  after a away victory against  Charlton Ath  on match-week  6  of the  2006 season \n",
      " the new top elo ever is  1356.5081658531526\n",
      "The highest ELO record has been broken by  Chelsea  after a home victory against  Aston Villa  on match-week  7  of the  2006 season \n",
      " the new top elo ever is  1360.4905778427124\n",
      "The highest ELO record has been broken by  Chelsea  after a away victory against  Liverpool  on match-week  8  of the  2006 season \n",
      " the new top elo ever is  1366.2262439983056\n",
      "The highest ELO record has been broken by  Chelsea  after a home victory against  Bolton  on match-week  9  of the  2006 season \n",
      " the new top elo ever is  1372.1352805024565\n",
      "The highest ELO record has been broken by  Chelsea  after a away victory against  Manchester City  on match-week  19  of the  2006 season \n",
      " the new top elo ever is  1374.5066846881844\n",
      "The highest ELO record has been broken by  Chelsea  after a home victory against  Birmingham City  on match-week  20  of the  2006 season \n",
      " the new top elo ever is  1377.3486368730992\n",
      "The highest ELO record has been broken by  Chelsea  after a away victory against  West Ham  on match-week  21  of the  2006 season \n",
      " the new top elo ever is  1380.8260553237576\n",
      "The highest ELO record has been broken by  Chelsea  after a away victory against  Sunderland  on match-week  22  of the  2006 season \n",
      " the new top elo ever is  1381.7182155167454\n",
      "The highest ELO record has been broken by  Manchester City  after a away victory against  Tottenham  on match-week  10  of the  2019 season \n",
      " the new top elo ever is  1389.9721072342527\n",
      "The highest ELO record has been broken by  Manchester City  after a home victory against  Southampton  on match-week  11  of the  2019 season \n",
      " the new top elo ever is  1392.8523391837894\n",
      "The highest ELO record has been broken by  Manchester City  after a home victory against  Manchester Utd  on match-week  12  of the  2019 season \n",
      " the new top elo ever is  1402.0331644078278\n",
      "The highest ELO record has been broken by  Manchester City  after a away victory against  West Ham  on match-week  13  of the  2019 season \n",
      " the new top elo ever is  1405.6624829843722\n",
      "The highest ELO record has been broken by  Manchester City  after a home victory against  Bournemouth  on match-week  14  of the  2019 season \n",
      " the new top elo ever is  1409.5978929774424\n",
      "The highest ELO record has been broken by  Manchester City  after a away victory against  Watford  on match-week  15  of the  2019 season \n",
      " the new top elo ever is  1412.579969155335\n",
      "The highest ELO record has been broken by  Manchester City  after a away victory against  West Ham  on match-week  1  of the  2020 season \n",
      " the new top elo ever is  1415.8173531507596\n",
      "The highest ELO record has been broken by  Liverpool  after a home victory against  Manchester City  on match-week  12  of the  2020 season \n",
      " the new top elo ever is  1417.7633713199612\n",
      "The highest ELO record has been broken by  Liverpool  after a away victory against  Crystal Palace  on match-week  13  of the  2020 season \n",
      " the new top elo ever is  1421.939898561304\n",
      "The highest ELO record has been broken by  Liverpool  after a home victory against  Brighton  on match-week  14  of the  2020 season \n",
      " the new top elo ever is  1424.3605142828044\n",
      "The highest ELO record has been broken by  Liverpool  after a home victory against  Everton  on match-week  15  of the  2020 season \n",
      " the new top elo ever is  1427.3366351130403\n",
      "The highest ELO record has been broken by  Liverpool  after a away victory against  Bournemouth  on match-week  16  of the  2020 season \n",
      " the new top elo ever is  1429.8253683593407\n",
      "The highest ELO record has been broken by  Liverpool  after a home victory against  Watford  on match-week  17  of the  2020 season \n",
      " the new top elo ever is  1431.8767145206912\n",
      "The highest ELO record has been broken by  Liverpool  after a away victory against  West Ham  on match-week  18  of the  2020 season \n",
      " the new top elo ever is  1434.8315916073682\n",
      "The highest ELO record has been broken by  Liverpool  after a away victory against  Leicester City  on match-week  19  of the  2020 season \n",
      " the new top elo ever is  1440.8661277552615\n",
      "The highest ELO record has been broken by  Liverpool  after a home victory against  Wolves  on match-week  20  of the  2020 season \n",
      " the new top elo ever is  1445.6421995691185\n",
      "The highest ELO record has been broken by  Liverpool  after a home victory against  Sheffield Utd  on match-week  21  of the  2020 season \n",
      " the new top elo ever is  1448.695550666315\n",
      "The highest ELO record has been broken by  Liverpool  after a away victory against  Tottenham  on match-week  22  of the  2020 season \n",
      " the new top elo ever is  1452.7499673328934\n",
      "The highest ELO record has been broken by  Liverpool  after a home victory against  Manchester Utd  on match-week  23  of the  2020 season \n",
      " the new top elo ever is  1457.4959657680765\n",
      "The highest ELO record has been broken by  Liverpool  after a away victory against  Wolves  on match-week  24  of the  2020 season \n",
      " the new top elo ever is  1461.5735767692274\n",
      "The highest ELO record has been broken by  Liverpool  after a home victory against  Southampton  on match-week  25  of the  2020 season \n",
      " the new top elo ever is  1464.6367218889472\n",
      "The highest ELO record has been broken by  Liverpool  after a away victory against  Norwich City  on match-week  26  of the  2020 season \n",
      " the new top elo ever is  1465.973166301553\n",
      "The highest ELO record has been broken by  Liverpool  after a home victory against  West Ham  on match-week  27  of the  2020 season \n",
      " the new top elo ever is  1467.9957945933866\n"
     ]
    }
   ],
   "source": [
    "ELO_of_teams = {value: starting_ELO for value in all_teams}\n",
    "highest_ELO_ever = [[starting_ELO, \"team\", \"season\", \"week\"]]\n",
    "for match in sorted_matches: \n",
    "    ELO_of_teams, highest_ELO_ever = calc_new_ELO(match[0], match[1], match[2], match[3], ELO_of_teams, match[4] , 32, highest_ELO_ever)\n",
    "\n"
   ]
  },
  {
   "cell_type": "code",
   "execution_count": 281,
   "metadata": {},
   "outputs": [
    {
     "data": {
      "image/png": "[encoded data removed]",
      "text/plain": [
       "<Figure size 1600x600 with 1 Axes>"
      ]
     },
     "metadata": {},
     "output_type": "display_data"
    }
   ],
   "source": [
    "highest_ELO_ever.append([highest_ELO_ever[len(highest_ELO_ever)-1][0], highest_ELO_ever[len(highest_ELO_ever)-1][1], '2023', '38'])\n",
    "def year_week_to_date(year, week):\n",
    "    year_int = int(year)\n",
    "    week_int = int(week)\n",
    "    # Calculate the date for the first day of the week\n",
    "    first_day_of_week = datetime.strptime(f'{year_int}-{week_int}-1', \"%Y-%W-%w\")\n",
    "    # Add 3 days because the first week of the year might belong to the previous year\n",
    "    first_day_of_week += timedelta(days=3)\n",
    "    return first_day_of_week\n",
    "\n",
    "# Plotting\n",
    "plt.figure(figsize=(16, 6))\n",
    "x_values = []\n",
    "y_values = []\n",
    "for entry in highest_ELO_ever[:][1:]:\n",
    "    value, team, year, week = entry\n",
    "    date = year_week_to_date(year, week)\n",
    "    x_values.append(date)\n",
    "    y_values.append(value)\n",
    "    plt.plot(x_values, y_values, linestyle='-')\n",
    "\n",
    "plt.xlabel('Time')\n",
    "plt.ylabel('Top ELO')\n",
    "plt.title('Highest ELO ever vs Time')\n",
    "plt.grid(True)\n",
    "plt.show()"
   ]
  },
  {
   "cell_type": "code",
   "execution_count": null,
   "metadata": {},
   "outputs": [],
   "source": []
  }
 ],
 "metadata": {
  "kernelspec": {
   "display_name": "base",
   "language": "python",
   "name": "python3"
  },
  "language_info": {
   "codemirror_mode": {
    "name": "ipython",
    "version": 3
   },
   "file_extension": ".py",
   "mimetype": "text/x-python",
   "name": "python",
   "nbconvert_exporter": "python",
   "pygments_lexer": "ipython3",
   "version": "3.10.9"
  }
 },
 "nbformat": 4,
 "nbformat_minor": 2
}
